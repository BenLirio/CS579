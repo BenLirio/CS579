{
  "nbformat": 4,
  "nbformat_minor": 0,
  "metadata": {
    "colab": {
      "name": "hw4.ipynb",
      "provenance": [],
      "collapsed_sections": [],
      "authorship_tag": "ABX9TyPvHiQWv5LBr7jzyhfk1nld",
      "include_colab_link": true
    },
    "kernelspec": {
      "name": "python3",
      "display_name": "Python 3"
    },
    "language_info": {
      "name": "python"
    }
  },
  "cells": [
    {
      "cell_type": "markdown",
      "metadata": {
        "id": "view-in-github",
        "colab_type": "text"
      },
      "source": [
        "<a href=\"https://colab.research.google.com/github/BenLirio/CS579/blob/master/notebooks/goldwasser-micali.ipynb\" target=\"_parent\"><img src=\"https://colab.research.google.com/assets/colab-badge.svg\" alt=\"Open In Colab\"/></a>"
      ]
    },
    {
      "cell_type": "code",
      "source": [
        "from sympy import *"
      ],
      "metadata": {
        "id": "pOSPUB-EUrwQ"
      },
      "execution_count": 29,
      "outputs": []
    },
    {
      "cell_type": "markdown",
      "source": [
        "# 1"
      ],
      "metadata": {
        "id": "yaHAY3I8SL6q"
      }
    },
    {
      "cell_type": "markdown",
      "source": [
        "Using computational methods we get"
      ],
      "metadata": {
        "id": "0n_WA5exV9mJ"
      }
    },
    {
      "cell_type": "code",
      "source": [
        "def factor(n):\n",
        "  cur = n\n",
        "  i = 1\n",
        "  factors = {}\n",
        "  while cur != 1:\n",
        "    i += 1\n",
        "    if cur % i == 0:\n",
        "      factors[i] = factors.get(i,0) + 1\n",
        "      cur = cur//i\n",
        "      i = 1\n",
        "  return factors\n",
        "\n",
        "def gcd(a,b):\n",
        "  if a != abs(a) or b != abs(b):\n",
        "    return gcd(abs(a), abs(b))\n",
        "  if a > b:\n",
        "    return gcd(b,a)\n",
        "  if a == 0:\n",
        "    return b\n",
        "  return gcd(b%a, a)\n",
        "\n",
        "def phi(n):\n",
        "  ps = factor(n)\n",
        "  cur = 1\n",
        "  for p in ps:\n",
        "    c = ps[p]\n",
        "    cur = cur * p**(c-1) * (p-1)\n",
        "  return cur"
      ],
      "metadata": {
        "id": "5nN80pYkSqVj",
        "outputId": "57380609-bbfe-4fa2-8aec-ecf9855b712a",
        "colab": {
          "base_uri": "https://localhost:8080/"
        }
      },
      "execution_count": 32,
      "outputs": [
        {
          "output_type": "execute_result",
          "data": {
            "text/plain": [
              "8"
            ]
          },
          "metadata": {},
          "execution_count": 32
        }
      ]
    },
    {
      "cell_type": "markdown",
      "source": [
        "But symbolically we get"
      ],
      "metadata": {
        "id": "clr1cs18WCd4"
      }
    },
    {
      "cell_type": "code",
      "source": [
        "p = Symbol('p', prime=True)\n",
        "q = Symbol('q', prime=True)\n"
      ],
      "metadata": {
        "id": "_miaMkWTWFsI"
      },
      "execution_count": 34,
      "outputs": []
    }
  ]
}