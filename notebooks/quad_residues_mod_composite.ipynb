{
  "nbformat": 4,
  "nbformat_minor": 0,
  "metadata": {
    "colab": {
      "name": "quad_residues_mod_composite.ipynb",
      "provenance": [],
      "authorship_tag": "ABX9TyPBRY4HzI8bDAgR717ZGzak",
      "include_colab_link": true
    },
    "kernelspec": {
      "name": "python3",
      "display_name": "Python 3"
    },
    "language_info": {
      "name": "python"
    }
  },
  "cells": [
    {
      "cell_type": "markdown",
      "metadata": {
        "id": "view-in-github",
        "colab_type": "text"
      },
      "source": [
        "<a href=\"https://colab.research.google.com/github/BenLirio/CS579/blob/master/notebooks/quad_residues_mod_composite.ipynb\" target=\"_parent\"><img src=\"https://colab.research.google.com/assets/colab-badge.svg\" alt=\"Open In Colab\"/></a>"
      ]
    },
    {
      "cell_type": "code",
      "execution_count": 1,
      "metadata": {
        "id": "8b6AhfXIqvWe"
      },
      "outputs": [],
      "source": [
        "import sympy"
      ]
    },
    {
      "cell_type": "code",
      "source": [
        "n = 5\n",
        "p = sympy.nextprime(n)\n",
        "q = sympy.nextprime(p)\n",
        "N = p*q\n",
        "\n",
        "def gen(N, x):\n",
        "  s = x\n",
        "  cur = s\n",
        "  acc = set([cur])\n",
        "  while True:\n",
        "    cur = (cur*s) % N\n",
        "    if cur == s:\n",
        "      return acc\n",
        "    else:\n",
        "      acc.add(cur)\n",
        "\n",
        "#print((p-1)*(q-1))\n",
        "P = gen(N, p)\n",
        "Q = gen(N, q)\n"
      ],
      "metadata": {
        "colab": {
          "base_uri": "https://localhost:8080/"
        },
        "id": "VzsRCS_gq0OG",
        "outputId": "74a5650b-0a9e-4d68-b0a4-c403cc711520"
      },
      "execution_count": 39,
      "outputs": [
        {
          "output_type": "stream",
          "name": "stdout",
          "text": [
            "385\n",
            "1540\n",
            "770\n",
            "770\n",
            "3080\n",
            "1540\n",
            "77\n",
            "308\n",
            "154\n",
            "462\n",
            "1848\n",
            "924\n",
            "154\n",
            "616\n",
            "308\n",
            "539\n",
            "2156\n",
            "1078\n",
            "231\n",
            "924\n",
            "462\n",
            "616\n",
            "2464\n",
            "1232\n",
            "308\n",
            "1232\n",
            "616\n",
            "693\n",
            "2772\n",
            "1386\n",
            "set()\n"
          ]
        }
      ]
    }
  ]
}